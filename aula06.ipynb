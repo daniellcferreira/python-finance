{
 "cells": [
  {
   "cell_type": "markdown",
   "metadata": {},
   "source": [
    "## Fluxos de Caixa\n",
    "\n",
    "<p>O valor presente de uma série de fluxos de caixa (ou seja, pagamentos de cupons/juros ao longo do tempo de vida daquele título) é representado pela seguinte equação:</p>\n",
    "\n",
    "$$PV(t) = V(t_{j}, F_{j}, I_{j}, i_{j}, \\alpha_{j}) = \\sum_{j=1}^{n}\\frac{F_{j}I_{j}\\alpha_{j}}{(1+i_{j})^{t_{j}-t}}$$\n",
    "\n",
    "<p>Onde:</p>\n",
    "- $t_{j}-t$ = prazo do fluxo de caixa; $f_{j}$ = fluxo de caixa num dado prazo;<br>\n",
    "- $I_{j}(t)$ = fator indexador acumulado do fluxo de caixa = $\\prod_{l=1}^{t}[1+\\Delta I(l)]$;<br>\n",
    "- $\\alpha_{j}(t)$ = fator de crédito em cada prazo do fluxo de caixa ($[0,1]$);<br>\n",
    "- $i_{j}(t)$ = taxa de juro para o prazo do fluxo de caixa;<br>\n",
    "- $\\omega_{j}(t) = \\frac{f_{j}I_{j}(t)\\alpha_{j}(t)}{PV(t)\\big(1+i_{j}(t)\\big)^{t_{j}-t}}$ = proporção do $PV(t)$ no vértice $j$."
   ]
  },
  {
   "cell_type": "markdown",
   "metadata": {},
   "source": [
    "## Variação do Fluxo de Caixa\n",
    "\n",
    "<p>Sabemos que toda <b>variação</b> é obtida por meio de derivadas parciais com relação às variáveis independentes do modelo. Sabemos também que uma ferramenta muito útil quando estamos lidando com funções suaves (existem infinitas derivadas) é a <b>Série de <i>Taylor</i></b>, pois ela nos permite aproximar a derivada pela soma de derivadas de graus até $N$ - onde $N$ geralmente é 1, 2 ou 3.</p>\n",
    "<br>\n",
    "<p>Com isto em mente, vamos aproximar a derivada do $PV(t)$ definido acima, através de uma <b>Série de <i>Taylor</i></b> até a derivada segunda.</p>\n",
    "\n",
    "$$\\frac{\\Delta PV(t)}{PV(t)} \\approx \\sum_{j=1}^{n}\\omega_{j}(t)\\bigg[\\frac{\\Delta I_{j}(t)}{I_{j}(t)} + \\frac{\\Delta \\alpha_{j}(t)}{\\alpha_{j}(t)} - \\frac{(t_{j}-t)}{1+i_{j}(t)}\\Delta i_{j}(t) + \\ln{[1+i_{j}(t)]}\\Delta t + \\frac{1}{2}\\frac{(t_{j}-t+1)(t_{j}-t)}{\\big(1+i_{j}(t)\\big)^{2}}\\big(\\Delta i_{j}(t)\\big)^{2}\\bigg]$$\n",
    "\n",
    "<p>Nesta equação, os termos representam:</p>\n",
    "\n",
    "- O termo $F_{j}$ da equação $[1]$, representando os fluxos de caixa, não varia. Logo, sua variação desaparece;<br>\n",
    "- O termo $\\frac{\\Delta I_{j}(t)}{I_{j}(t)}$ remete à variação do indexador ao qual o título está ligado;<br>\n",
    "- O termo $\\frac{\\Delta \\alpha_{j}(t)}{\\alpha_{j}(t)}$ remete à variação do <i>rating</i> de crédito daquele título;<br>\n",
    "- O termo $\\frac{(t_{j}-t)}{1+i_{j}(t)}\\Delta i_{j}(t)$ é a derivada em relação à taxa de juros;<br>\n",
    "- O termo $\\ln{[1+i_{j}(t)]}\\Delta t$ é a derivada em relação ao tempo desta taxa de juros;<br>\n",
    "- O termo $\\frac{1}{2}\\frac{(t_{j}-t+1)(t_{j}-t)}{\\big(1+i_{j}(t)\\big)^{2}}\\big(\\Delta i_{j}(t)\\big)^{2}$ é a única derivada segunda presente na fórmula, que é a derivada da taxa de juros, dado que esta variável possui uma relevância em sua derivada segunda quando temos choques heterogêneos na mesma.<br>\n",
    "\n",
    "<p>Da equação $[1]$ acima, podemos dizer que o termo $\\ln{[1+i_{j}(t)]}\\Delta t$ é o famoso \"<b>carrego</b>\" - que em suma representa a passagem do tempo sobre aquela curva de juros, e será sempre positivo quando os juros são nominais. O termo $\\frac{(t_{j}-t)}{1+i_{j}(t)}$ é o chamado <b><i>Modified Duration</i></b>, porque representa a duração ponderada pela taxa daquele título. E o termo $\\frac{(t_{j}-t+1)(t_{j}-t)}{\\big(1+i_{j}(t)\\big)^{2}}$ é a chamada <b>Convexidade</b>.</p>\n",
    "<br>\n",
    "<p>Agora vamos pensar da seguinte forma:</p>\n",
    "\n",
    "- Se estivermos falando de um <b>título pré fixado</b> o termo $\\frac{\\Delta I_{j}(t)}{I_{j}(t)}$ desaparece;<br>\n",
    "- Se estivermos falando de um <b>título do tesouro</b> o termo $\\frac{\\Delta \\alpha_{j}(t)}{\\alpha_{j}(t)}$ desaparece;<br>\n",
    "- O termo $\\ln{[1+i_{j}(t)]}\\Delta t$ muitas vezes é ignorado (errôneamente).<br>"
   ]
  },
  {
   "cell_type": "markdown",
   "metadata": {},
   "source": [
    "## Exemplo Prático\n",
    "\n",
    "<p>Seja um título com as seguintes características:</p>\n",
    "\n",
    "- <b>Vencimento:</b> 3 anos;\n",
    "- <b>Cupom:</b> Semestral;\n",
    "- <b>Taxa:</b> $10\\%$ a.a.\n",
    "\n",
    "<p>Dada a curva de mercado abaixo, vamos calcular os seguintes parâmetros:</p>\n",
    "\n",
    "- O <b>Valor Presente</b> (PU) do papel;\n",
    "- A <b>Composição</b> (por vértice) da <i>Modified Duration</i>;\n",
    "- A <b>Composição</b> da Convexidade.\n",
    "\n",
    "|Vértices|ETTJ|<i>Spread</i> de Crédito|\n",
    "|--- |--- |--- |\n",
    "|126|3.00%|0.25%|\n",
    "|252|5.00%|1.00%|\n",
    "|378|6.00%|1.25%|\n",
    "|504|7.00%|1.35%|\n",
    "|630|8.00%|1.40%|\n",
    "|756|8.25%|1.45%|\n",
    "|882|8.50%|1.47%|\n",
    "|1008|8.75%|1.49%|"
   ]
  },
  {
   "cell_type": "code",
   "execution_count": null,
   "metadata": {},
   "outputs": [
    {
     "name": "stderr",
     "output_type": "stream",
     "text": [
      "Matplotlib is building the font cache; this may take a moment.\n"
     ]
    }
   ],
   "source": [
    "# importando as bibliotecas necessárias\n",
    "import numpy as np\n",
    "import pandas as pd\n",
    "import matplotlib.pyplot as plt\n",
    "from scipy.interpolate import make_interp_spline, BSpline"
   ]
  },
  {
   "cell_type": "code",
   "execution_count": null,
   "metadata": {},
   "outputs": [
    {
     "name": "stdout",
     "output_type": "stream",
     "text": [
      "Valor do cupom: 48808.84817\n"
     ]
    }
   ],
   "source": [
    "# definindo o titulo\n",
    "dias_ano = 252      # dias úteis\n",
    "vcto = 3            # vencimento em 3 anos\n",
    "cupom = 0.5         # cupom semestral\n",
    "taxa_titulo = 10    # taxa do título de 10%\n",
    "principal = 1000000 # principal de 1 milhão\n",
    "\n",
    "# calculando o valor do cupom\n",
    "valor_cupom = np.round(principal * (taxa_titulo / 100) * cupom, 5)\n",
    "print(f'Valor do cupom: {valor_cupom}')\n",
    "\n",
    "prazo = np.linspace(start=dias_ano*cupom, stop=dias_ano*vcto, num=int(vcto/cupom), endpoint=True)"
   ]
  },
  {
   "cell_type": "code",
   "execution_count": null,
   "metadata": {},
   "outputs": [
    {
     "data": {
      "text/html": [
       "<div>\n",
       "<style scoped>\n",
       "    .dataframe tbody tr th:only-of-type {\n",
       "        vertical-align: middle;\n",
       "    }\n",
       "\n",
       "    .dataframe tbody tr th {\n",
       "        vertical-align: top;\n",
       "    }\n",
       "\n",
       "    .dataframe thead th {\n",
       "        text-align: right;\n",
       "    }\n",
       "</style>\n",
       "<table border=\"1\" class=\"dataframe\">\n",
       "  <thead>\n",
       "    <tr style=\"text-align: right;\">\n",
       "      <th></th>\n",
       "      <th>Taxa (%)</th>\n",
       "      <th>Spread de Crédito (%)</th>\n",
       "    </tr>\n",
       "  </thead>\n",
       "  <tbody>\n",
       "    <tr>\n",
       "      <th>126</th>\n",
       "      <td>3.00</td>\n",
       "      <td>0.25</td>\n",
       "    </tr>\n",
       "    <tr>\n",
       "      <th>252</th>\n",
       "      <td>5.00</td>\n",
       "      <td>1.00</td>\n",
       "    </tr>\n",
       "    <tr>\n",
       "      <th>378</th>\n",
       "      <td>6.00</td>\n",
       "      <td>1.25</td>\n",
       "    </tr>\n",
       "    <tr>\n",
       "      <th>504</th>\n",
       "      <td>7.00</td>\n",
       "      <td>1.35</td>\n",
       "    </tr>\n",
       "    <tr>\n",
       "      <th>630</th>\n",
       "      <td>8.00</td>\n",
       "      <td>1.40</td>\n",
       "    </tr>\n",
       "    <tr>\n",
       "      <th>756</th>\n",
       "      <td>8.25</td>\n",
       "      <td>1.45</td>\n",
       "    </tr>\n",
       "    <tr>\n",
       "      <th>882</th>\n",
       "      <td>8.50</td>\n",
       "      <td>1.47</td>\n",
       "    </tr>\n",
       "    <tr>\n",
       "      <th>1008</th>\n",
       "      <td>8.75</td>\n",
       "      <td>1.49</td>\n",
       "    </tr>\n",
       "  </tbody>\n",
       "</table>\n",
       "</div>"
      ],
      "text/plain": [
       "      Taxa (%)  Spread de Crédito (%)\n",
       "126       3.00                    0.25\n",
       "252       5.00                    1.00\n",
       "378       6.00                    1.25\n",
       "504       7.00                    1.35\n",
       "630       8.00                    1.40\n",
       "756       8.25                    1.45\n",
       "882       8.50                    1.47\n",
       "1008      8.75                    1.49"
      ]
     },
     "execution_count": 4,
     "metadata": {},
     "output_type": "execute_result"
    }
   ],
   "source": [
    "# Criando a ETTJ base\n",
    "# vertices = [252, 378, 504, 630, 756, 882, 1008, 1134, 1260,\n",
    "#             1386, 1512, 1638, 1764, 1890, 2016, 2142, 2268]\n",
    "\n",
    "vertices = [126, 252, 378, 504, 630, 756, 882, 1008]\n",
    "\n",
    "# taxa = [8.0381, 8.6546, 9.0584, 9.3531, 9.5865, 9.7795, 9.9425, 10.0825,\n",
    "#         10.2049, 10.3133, 10.4102, 10.4972, 10.5754, 10.6460, 10.7100, 10.7683, 10.8215]\n",
    "\n",
    "taxa = [3.0, 5.0, 6.0, 7.0, 8.0, 8.25, 8.5, 8.75]\n",
    "\n",
    "sprd_credito = [0.25, 1.0, 1.25, 1.35, 1.40, 1.45, 1.47, 1.49]\n",
    "\n",
    "ettj = pd.DataFrame(np.array([taxa, sprd_credito]).T, index=vertices, columns=['Taxa (%)', 'Spread de Crédito (%)'])\n",
    "ettj"
   ]
  },
  {
   "cell_type": "code",
   "execution_count": 9,
   "metadata": {},
   "outputs": [
    {
     "name": "stdout",
     "output_type": "stream",
     "text": [
      "Duração real do título: 2.47\n"
     ]
    }
   ],
   "source": [
    "j = np.linspace(start=1, stop=len(prazo), num=len(prazo), endpoint=True)\n",
    "\n",
    "# Interpolando as taxas da ETTJ para os vértices do meu título\n",
    "juro_interp = make_interp_spline(vertices, taxa, k=3)(prazo)\n",
    "juro = np.round(juro_interp / 100, 5) # Passando de taxa percentual para taxa decimal\n",
    "\n",
    "# Interpolando os spreads de crédito da ETTJ para os vértices do meu título\n",
    "spread_interp = make_interp_spline(vertices, sprd_credito, k=3)(prazo)\n",
    "spread = np.round(spread_interp / 100, 5) # Passando de taxa percentual para taxa decimal\n",
    "\n",
    "# O vetor t contém o vértice atual (que é o vértice zero neste exemplo)\n",
    "t = np.zeros(len(prazo))\n",
    "\n",
    "# Calculando o fator Valor Presente --> 1/(1+juro)^(tj - t)\n",
    "fator_VP = []\n",
    "for i in range(len(prazo)):\n",
    "    fator_VP.append(1/(1+juro[i])**((prazo[i] - t[i])/dias_ano))\n",
    "fator_VP = np.round(np.array(fator_VP), 5)\n",
    "\n",
    "# Calculando o fator Spread de Crédito --> 1/(1+spread)^(tj - t)\n",
    "fator_spread = []\n",
    "for i in range(len(prazo)):\n",
    "    fator_spread.append(1/(1+spread[i])**((prazo[i] - t[i])/dias_ano))\n",
    "fator_spread = np.round(np.array(fator_spread), 5)\n",
    "\n",
    "# Calculando os fluxos por prazo\n",
    "fluxo = []\n",
    "for i in range(len(prazo)):\n",
    "    if prazo[i] == vcto*dias_ano:\n",
    "        fluxo.append(principal+valor_cupom)\n",
    "    else:\n",
    "        fluxo.append(valor_cupom)\n",
    "fluxo = np.array(fluxo).T\n",
    "        \n",
    "# Trazendo os fluxos a valor presente pela ettj --> fluxo * fator_VP * fator_spread\n",
    "VPj = np.round(np.multiply(np.multiply(fluxo, fator_spread), fator_VP), 5)\n",
    "\n",
    "# Valor Presente total do título\n",
    "PV_t = np.round(np.sum(VPj), 5)\n",
    "\n",
    "# Calculando o peso de cada fluxo dividindo o PV do fluxo pelo PV do bond\n",
    "wj = np.round(VPj/PV_t, 5)\n",
    "\n",
    "# Calculando o Modified Duration para cada vértice --> Tal como dado pela equação apresentada anteriormente\n",
    "MDj = []\n",
    "for i in range(len(prazo)):\n",
    "    MDj.append(np.round((prazo[i] - t[i])/(1 + juro[i])*wj[i], 5))\n",
    "MDj = np.array(MDj)\n",
    "    \n",
    "# Modified Duration total do bond - ou seja, qual o vencimento dele ponderado pelos fluxos intermediários\n",
    "MD_t = np.round(np.sum(MDj), 5)\n",
    "MD_ano = MD_t/dias_ano\n",
    "print(f'Duração real do título: {np.round(MD_ano, 2)}')"
   ]
  },
  {
   "cell_type": "code",
   "execution_count": 10,
   "metadata": {},
   "outputs": [
    {
     "data": {
      "image/png": "[encoded data removed]",
      "text/plain": [
       "<Figure size 2000x750 with 2 Axes>"
      ]
     },
     "metadata": {},
     "output_type": "display_data"
    }
   ],
   "source": [
    "# fig, ax1 = plt.subplots(figsize=(20,7.5))\n",
    "\n",
    "# ax2 = ax1.twinx()\n",
    "# ax1.plot(prazo, juro, 'g-')\n",
    "# ax2.plot(prazo, MDj, 'b-')\n",
    "\n",
    "# ax1.set_xlabel('Vértices (Dias)')\n",
    "# ax1.set_ylabel('Juro', color='g')\n",
    "# ax2.set_ylabel('Modified Duration', color='b')\n",
    "\n",
    "# plt.show()\n",
    "\n",
    "juro_spline = make_interp_spline(prazo, juro)\n",
    "mdj_spline = make_interp_spline(prazo, MDj)\n",
    "\n",
    "new_prazo = np.linspace(prazo.min(), prazo.max(), 5000)\n",
    "new_juro = juro_spline(new_prazo)\n",
    "new_mdj = mdj_spline(new_prazo)\n",
    "\n",
    "fig, ax1 = plt.subplots(figsize=(20,7.5))\n",
    "\n",
    "ax2 = ax1.twinx()\n",
    "ax1.plot(new_prazo, new_juro*100, 'g-')\n",
    "# ax2.plot(new_prazo, new_mdj, 'b-')\n",
    "ax2.bar(prazo, (MDj/MD_t)*100, 15, color='k')\n",
    "\n",
    "ax1.set_xlabel('Vértices (Dias)')\n",
    "ax1.set_ylabel('Juro (%)', color='g')\n",
    "ax2.set_ylabel('Modified Duration (%)', color='black')\n",
    "\n",
    "plt.show()"
   ]
  }
 ],
 "metadata": {
  "kernelspec": {
   "display_name": "Python 3",
   "language": "python",
   "name": "python3"
  },
  "language_info": {
   "codemirror_mode": {
    "name": "ipython",
    "version": 3
   },
   "file_extension": ".py",
   "mimetype": "text/x-python",
   "name": "python",
   "nbconvert_exporter": "python",
   "pygments_lexer": "ipython3",
   "version": "3.13.2"
  }
 },
 "nbformat": 4,
 "nbformat_minor": 2
}
