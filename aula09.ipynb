{
 "cells": [
  {
   "cell_type": "markdown",
   "metadata": {},
   "source": [
    "# Exposição a Fatores de Risco\n",
    "\n",
    "## Fator de risco\n",
    "\n",
    "Um fator de risco de um produto ou portfólio é uma fonte de risco e retorno. É uma variável de mercado que apresenta alguma incerteza sobre seus valores futuros.\n",
    "\n",
    "<b>Exemplo**</b>\n",
    "\n",
    "Suponha que você possui um contrato a termo de dólar com notional de R\\\\$1.000,00 e vencimento em 3 meses. Para estimarmos o valor de mercado (MtM) deste contrato, precisamos projetar o valor futuro do dólar e descontá-lo a valor presente.\n",
    "\n",
    "$$ MtM = Notional \\cdot Spot_{USD} \\cdot \\frac{Fator_{CupomUSD}}{Fator_{Pré}} $$\n",
    "\n",
    "O seu contrato a termo não é uma variável de mercado, comum a todos os participantes, portanto, não poderia ser utilizado como fator de risco. Contudo, podemos identificar, através da equação de preço acima, seus fatores de risco.\n",
    "\n",
    "- Notional: é uma variável cadastral e fixa, definida em contrato. Portanto, não é uma fonte de risco;\n",
    "- $Spot_{USD}$: é o preço a vista da moeda USD; é uma variável de mercado e possui incerteza sobre seus valores futuros;\n",
    "- $Fator_{CupomUSD}$: é o fator que representa o diferencial entre as taxas básicas de juros entre o Brasil e os EUA. Também apresenta incerteza e pode ser calculada a partir do mercado;\n",
    "- $Fator_{Pré}$: é o fator de juros da taxa livre de risco brasileira e apresenta incerteza sobre seus valores futuros.\n",
    "\n",
    "Portanto, podemos identificar os seguintes fatores de risco para um contrato a termo de USD: \n",
    "\n",
    "$$ Spot_{USD}, Fator_{CupomUSD} e Fator_{Pré} $$"
   ]
  },
  {
   "cell_type": "markdown",
   "metadata": {},
   "source": [
    "## Exposição\n",
    "Exposição é a quantidade de valor financeiro que pode ser perdida devido aos riscos associados a um determinado fator de risco.\n",
    "\n",
    "<b>Exemplo</b>\n",
    "\n",
    "Suponha ainda que as variáveis pssuam os seguites valores hoje:\n",
    "\n",
    "- $Spot_{USD}$ = 5,10;\n",
    "- $Fator_{CupomUSD}$: 1,01;\n",
    "- $Fator_{Pré}$: 1,06.\n",
    "\n",
    "\n",
    "Logo, seu contrato a termo de USD vale: \n",
    "\n",
    "$$ MtM = 1000 \\cdot 5,10 \\cdot \\frac{1,01}{1,06} $$\n",
    "$$ MtM = R\\$4.859,43 $$\n",
    "\n",
    "Então, este é o valor que você está exposto em cada um dos fatores de risco identificados acima.\n",
    "\n",
    "Agora, imagine que o valor do dólar a vista caia 20\\% para R\\$4,08, enquanto os fatores de juros seguem os mesmos. Qual seria o impacto no contrato?\n",
    "\n",
    "$$ MtM_{simulado} = 1000 \\cdot 4,08 \\cdot \\frac{1,01}{1,06} $$\n",
    "$$ MtM_{simulado} = R\\$3.887,55 $$\n",
    "\n",
    "O valor do contrato a termo cairia 4.859,43 - 3.887,55 = 971,88.\n",
    "Veja que este valor equivale a uma variação relativa de: 971,88/4.859,43 = 20\\%. Ou seja, a mesma variação observada no valor do dólar a vista.\n",
    "\n",
    "Desta forma, podemos estimar perdas potenciais num contrato (ou num portfólio) a partir das variações dos fatores de risco. Neste caso, ao invés de recalcular o preço simulado da carteira, poderíamos aplicar a variação projetada do dólar de 20\\% diretamente sobre a exposição em carteira:\n",
    "\n",
    "$$ Perda Potencial = 20\\% \\cdot 4.859,43 = R\\$ 971,88 $$\n",
    "\n",
    "Esta relação ocorre neste tipo de contrato, pois o preço deste derivativo é <b>linear</b> em função do <i>spot</i>. Esta relação não ocorre para opções e outros derivativos exóticos que não apresentem relação linear (são chamados de derivativos não lineares). Para estimar perdas potenciais de portfólios com opções, as exposições a fatores de risco são mensuradas pelas <b>gregas</b>."
   ]
  },
  {
   "cell_type": "markdown",
   "metadata": {},
   "source": [
    "## Exposição\n",
    "Exposição é a quantidade de valor financeiro que pode ser perdida devido aos riscos associados a um determinado fator de risco.\n",
    "\n",
    "<b>Exemplo</b>\n",
    "\n",
    "Suponha ainda que as variáveis pssuam os seguites valores hoje:\n",
    "\n",
    "- $Spot_{USD}$ = 5,10;\n",
    "- $Fator_{CupomUSD}$: 1,01;\n",
    "- $Fator_{Pré}$: 1,06.\n",
    "\n",
    "\n",
    "Logo, seu contrato a termo de USD vale: \n",
    "\n",
    "$$ MtM = 1000 \\cdot 5,10 \\cdot \\frac{1,01}{1,06} $$\n",
    "$$ MtM = R\\$4.859,43 $$\n",
    "\n",
    "Então, este é o valor que você está exposto em cada um dos fatores de risco identificados acima.\n",
    "\n",
    "Agora, imagine que o valor do dólar a vista caia 20\\% para R\\$4,08, enquanto os fatores de juros seguem os mesmos. Qual seria o impacto no contrato?\n",
    "\n",
    "$$ MtM_{simulado} = 1000 \\cdot 4,08 \\cdot \\frac{1,01}{1,06} $$\n",
    "$$ MtM_{simulado} = R\\$3.887,55 $$\n",
    "\n",
    "O valor do contrato a termo cairia 4.859,43 - 3.887,55 = 971,88.\n",
    "Veja que este valor equivale a uma variação relativa de: 971,88/4.859,43 = 20\\%. Ou seja, a mesma variação observada no valor do dólar a vista.\n",
    "\n",
    "Desta forma, podemos estimar perdas potenciais num contrato (ou num portfólio) a partir das variações dos fatores de risco. Neste caso, ao invés de recalcular o preço simulado da carteira, poderíamos aplicar a variação projetada do dólar de 20\\% diretamente sobre a exposição em carteira:\n",
    "\n",
    "$$ Perda Potencial = 20\\% \\cdot 4.859,43 = R\\$ 971,88 $$\n",
    "\n",
    "Esta relação ocorre neste tipo de contrato, pois o preço deste derivativo é <b>linear</b> em função do <i>spot</i>. Esta relação não ocorre para opções e outros derivativos exóticos que não apresentem relação linear (são chamados de derivativos não lineares). Para estimar perdas potenciais de portfólios com opções, as exposições a fatores de risco são mensuradas pelas <b>gregas</b>."
   ]
  },
  {
   "cell_type": "markdown",
   "metadata": {},
   "source": [
    "## Equação de <i>Black & Scholes</i>\n",
    "\n",
    "Aqui o objetivo não é passar a formulação, aplicações e compreensão da equação de <i>Black & Scholes</i>, pois isto iria exigir 1 ou 2 aulas, a depender do aprofundamento. Além disso, precisaríamos ter uma aula também abordando as <b>opções</b>. Isto será feito em um segundo módulo que deverá complementar este primeiro. Aqui, quero ilustrar a noção de <b>exposição a fatores de risco</b> e, historicamente, esta equação foi o que permitiu os agentes de mercado a tomarem risco em um primeiro momento, pois este risco passou a ser <b>mensurável</b> (com ressalvas nessa afirmação!).\n",
    "\n",
    "O modelo original de Fisher Black e Myrion Scholes foi publicado em artigo em 1973 e estabelecia uma nova forma de precificar opções e de se proteger de seus riscos inerentes. Rober Merton, no mesmo ano, publicou outro artigo, incorporando novos elementos à análise, e consolidando o chamado modelo de Black-Scholes-Merton.\n",
    "\n",
    "### Hipóteses\n",
    "São hipóteses do modelo de <i>Black-Scholes</i>:\n",
    "\n",
    "- o preço do ativo-objeto segue um movimento browniano geométrico;\n",
    "- o ativo-objeto não paga dividendos durante a vigência do contrato da opção;\n",
    "- não há custos de transação;\n",
    "- é permitido vender a descobero;\n",
    "- é permitido negociar continuamente qualquer fração do valor do ativo;\n",
    "- a taxa livre de risco (*r*) é constante e igual para todos os vencimentos;\n",
    "- não há oportunidades de arbitragem."
   ]
  },
  {
   "cell_type": "markdown",
   "metadata": {},
   "source": [
    "### A solução do modelo\n",
    "\n",
    "As fórmulas de Black-Scholes-Merton para os preços de opções de compra e venda europeias são:\n",
    "\n",
    "$$  c = S_0 N(d_1) - K e^{-rT} N(d_2) $$\n",
    "\n",
    "e \n",
    "\n",
    "$$ p = K e^{-rT} N(-d_2) - S_0 N(-d_1) $$\n",
    "\n",
    "Onde:\n",
    "\n",
    "$$ d_1 = \\frac{ ln(S_0/K) + (r + \\sigma^2/2) T }{ \\sigma \\sqrt T} $$\n",
    "\n",
    "$$ d_2 = \\frac{ ln(S_0/K) + (r - \\sigma^2/2) T }{ \\sigma \\sqrt T} = d_1 - \\sigma \\sqrt T $$\n",
    "\n",
    "A função *N(x)* é a função de distribuição de probabilidade cumulativa para uma variável com distribuição normal padrão. Em outras palavras, ela é a probabilidade de que uma variável com distribuição normal padrão será menor do que x. A função está ilustrada na figura abaixo. \n",
    "\n",
    "- As variáveis *c* e *p* são o preço da opção de compra e da de venda europeias, \n",
    "*S_0* é o preço da ação no tempo zero, \n",
    "- *K* é o preço de exercício (*strike*), \n",
    "- *r* é a taxa de juros livre de risco com capitalização contínua,\n",
    "- $\\sigma$ é a volatilidade do preço da ação e \n",
    "- *T* é o tempo até a maturidade da opção."
   ]
  },
  {
   "cell_type": "code",
   "execution_count": 1,
   "metadata": {},
   "outputs": [],
   "source": [
    "import numpy as np\n",
    "from scipy.stats import norm"
   ]
  },
  {
   "cell_type": "code",
   "execution_count": null,
   "metadata": {},
   "outputs": [],
   "source": [
    "# Função para cálculo do preço de uma opção de compra ou venda\n",
    "\n",
    "def calc_BS(S, K, r, T, sigma, tipo):\n",
    "  d1 = (np.log(S/K) + (r + sigma**2/2)*T) / (sigma*np.sqrt(T)) # cálculo de d1\n",
    "  d2 = d1 - sigma*np.sqrt(T) # cálculo de d2\n",
    "\n",
    "  if tipo == 'call':\n",
    "    price = S*norm.cdf(d1) - K*np.exp(-r*T)*norm.cdf(d2) # preço se for call\n",
    "  elif tipo == 'put':\n",
    "    price = K*np.exp(-r*T)*norm.cdf(-d2) - S*norm.cdf(-d1) # preço se for put\n",
    "  else:\n",
    "    price = None\n",
    "  return price"
   ]
  },
  {
   "cell_type": "code",
   "execution_count": 8,
   "metadata": {},
   "outputs": [
    {
     "name": "stdout",
     "output_type": "stream",
     "text": [
      "Taxa de juros contínua: 12.88% a.a\n"
     ]
    }
   ],
   "source": [
    "# Conversão do CDI composto para contínuo (tudo a.a)\n",
    "r = np.log(1 + 0.1375) # taxa de juros composta\n",
    "print(f'Taxa de juros contínua: {round(r*100, 2)}% a.a')"
   ]
  },
  {
   "cell_type": "code",
   "execution_count": 9,
   "metadata": {},
   "outputs": [
    {
     "name": "stdout",
     "output_type": "stream",
     "text": [
      "Preço de uma call: R$ 6.52\n",
      "Preço de uma put: R$ 4.69\n"
     ]
    }
   ],
   "source": [
    "# Exemplo Black-Scholes\n",
    "S = 29.36 # Spot PETR4\n",
    "K = 29.36 # Strike\n",
    "T = 0.5 # Tempo até o vencimento\n",
    "sigma = 0.7 # Volatilidade\n",
    "\n",
    "call_price = calc_BS(S, K, r, T, sigma, 'call') # Preço de uma call via BS\n",
    "put_price = calc_BS(S, K, r, T, sigma, 'put') # Preço de uma put via BS\n",
    "\n",
    "print(f'Preço de uma call: R$ {round(call_price, 2)}')\n",
    "print(f'Preço de uma put: R$ {round(put_price, 2)}')"
   ]
  },
  {
   "cell_type": "markdown",
   "metadata": {},
   "source": [
    "Como pode ser visto acima, a equação de <i>Black-Scholes</i> é capaz de precificar opções <b>europeias</b> e cujo <i>strike</i> esteja relativamente próximo ao preço <i>spot</i> com certa precisão. Porém, a maior beleza desta equação é que, pelo fato de termos em mãos uma equação fechada que nos fornece o preço de um derivativo, podemos derivar esta equação ao nosso bel prazer para obtermos quaisuqer informações que desejarmos.\n",
    "\n",
    "Seguindo na ideia de <b>exposição a fatores de risco</b>, como conseguimos saber qual a nossa exposição em uma carteira de derivativos? Ora, precisamos conhecer a <b>derivada</b>, ou, em outras palavras, a <b>sensibilidade</b> do preço da opção a uma possível variação em suas diversas variáveis de influência.\n",
    "\n",
    "Vamos, então, apresentar estas derivadas sob o nome que chamamos de <b>gregas</b>, devido à sua representação por letras gregas (com excessão do <b>vega</b>, que não é uma letra grega)"
   ]
  },
  {
   "cell_type": "markdown",
   "metadata": {},
   "source": [
    "## Gregas\n",
    "\n",
    "Vimos anteriormente que o preço de uma opção depende de uma série de parâmetros. Uma pergunta muito comum (principalmente para gestores de risco) é: o que acontece com o valor da minha opção (ou da minha carteira de opções) quando há variações nesses parâmetros? Ou ainda: qual é risco a que um portfólio está submetido em razão das variações de mercado?\n",
    "\n",
    "Uma parte da resposta a essa pergunta está relacionada com uma série de quantidades, quase sempre representadas por letras gregas, que medem a sensibilidade da opção com relação a seus parâmetros mais comuns. Essas quantidades são chamadas de <b>gregas</b> da opção.\n",
    "\n",
    "As gregas são obtidas pelo cálculo das derivadas parciais do preço da opção com relação a um (ou mais) de seus parâmetros. No modelo B&S, que possui fórmula fechada e diferenciável, há solução analítica para o cálculo das gregas. Em outros casos, muitas vezes é preciso recorrer a técnicas de derivação numérica para encontar seus valores. \n",
    "\n",
    "Vejamos na figura abaixo a representação gráfica do conceito do Delta. Ele representa o coeficiente angular do preço da opção em função do preço spot do ativo objeto. Em outras palavras, quanto a variação do spot vai afetar o preço da opção. Na figura, o Delta possui um valor de 0,6, significa que uma variação no spot impacta em 60% o preço da opção.\n",
    "\n",
    "<b>Exemplo</b>\n",
    "\n",
    "Suponha que um investidor vendeu 2.000 opções de compra (*calls*) de uma ação que vale R\\\\$10,00 e gostaria de neutralizar sua exposição à ação. Suponha ainda que o preço de cada opção é R\\\\$1,00 e o Delta dessas opções hoje vale 0,5. \n",
    "\n",
    "Neste caso, para neutralizar o risco, bastaria ele comprar: $2.000 \\cdot 0,5 = 1.000$ ações. Veja que não precisamos utilizar o preço da opção, nem o preço da ação para identificar a quantidade de ações a ser comprada. Utilizamos apenas o Delta e a quantidade de opções.\n",
    "\n",
    "Desta forma, se a ação desvalorizar R\\\\$0,50, ele terá uma desvalorização total nas ações de R\\\\$500,00, mas por outro lado, terá um ganho nas calls, que terão desvalorizado R\\\\$0,25. Como o investidor vendeu 2.000 ações, essa desvalorização gerará um lucro de R\\$500,00. Portanto, o resultado teve um <i>hedge</i> com sucesso e o resultado foi neutralizado. Esta técnica é conhecida com <i><b>delta hedging</b></i>.\n",
    "\n",
    "Esta estratégia, apesar de muito utilizada no mercado, não é perfeita, pois não considera outros fatores de risco como a volatilidade, o prazo, entre outros. Além disso, o Delta também varia ao longo do tempo, de forma que o portfólio de hedge deve ser rebalanceado e isto pode gerar custos transacionais que superem o resultado ganho."
   ]
  }
 ],
 "metadata": {
  "kernelspec": {
   "display_name": "Python 3",
   "language": "python",
   "name": "python3"
  },
  "language_info": {
   "codemirror_mode": {
    "name": "ipython",
    "version": 3
   },
   "file_extension": ".py",
   "mimetype": "text/x-python",
   "name": "python",
   "nbconvert_exporter": "python",
   "pygments_lexer": "ipython3",
   "version": "3.13.2"
  }
 },
 "nbformat": 4,
 "nbformat_minor": 2
}
