{
 "cells": [
  {
   "cell_type": "markdown",
   "metadata": {},
   "source": [
    "# Introdução\n",
    "\n",
    "## Importância das métricas de risco\n",
    "**O que são métricas de risco**   \n",
    "Métricas que visam estimar **perdas potenciais** sob determinados cenários (premissas) em função de modelos de apreçamento. Em geral, são aplicáveis tanto a apenas um ativo, como em carteiras complexas e diversas, pois apresentam uma visão consolidada sobre um risco financeiro. Por este mesmo motivo, costumam utilizar ferramentas e conceitos estatísticos na mensuração.\n",
    "\n",
    "Há métricas para estimar diversos tipos de risco financeiro, como risco de crédito, mercado, contraparte, liquidez, etc.\n",
    "\n",
    "**Para que servem**   \n",
    "São utilizadas na gestão de risco de instituições financeiras - *e na sua carteira pessoal, por que não?*   \n",
    "Geralmente são vinculadas com outras ações e mitigadores, como definição de apetite de risco e limites de operação.\n",
    "Também são muito utilizadas pelos órgãos reguladores do sistema financeiro para controlar a tomada de risco das instituições e garantir a saúde do mercado. Reguladores estimam o **capital** a ser alocado pela instituição financeira em função das métricas de risco.\n",
    "\n",
    "\n",
    "**Exemplo em risco de mercado**\n",
    "\n",
    "|Métrica de risco| Exigência regulatória|\n",
    "|---|---|\n",
    "|Value at Risk (VaR) | Capital RM (Res. 4.557 e Circ. 3.646)|\n",
    "|Expected Shortfall (ES) | FRTB|\n",
    "|Teste de estresse| ICAAP (Res. 4.557)|\n",
    "|ΔEVE e ΔNII | IRRBB (Circ. 3.876)|\n",
    "\n"
   ]
  },
  {
   "cell_type": "markdown",
   "metadata": {},
   "source": [
    "# Revisão <a class=\"anchor\" id=\"2\"></a>\n",
    "1. Retorno simples\n",
    "2. PnL - Profit and Loss - Perdas e Ganhos (resultado)\n",
    "\n",
    "Seja $P_t$ o preço de um ativo no instante $t$.\n",
    "O retorno simples é dado por:\n",
    "$$ retorno_t = \\frac{preço_t - preço_{t-HP}}{preço_{t-HP}} $$\n",
    "ou\n",
    "$$ retorno_t = \\frac{preço_t}{preço_{t-HP}} -1 $$\n",
    "\n",
    "Geralmente o retorno é expresso em porcentagem, relativamente ao período. Também é chamado de *taxa de retorno*.   \n",
    "E o PnL é dado por:\n",
    "\n",
    "$$ PnL_t = preço_t - preço_{t-HP} $$\n",
    "ou\n",
    "$$ PnL_t = retorno_t \\cdot preço_{t-HP} $$\n",
    "\n",
    "e representa a perda ou ganho em valor financeiro ocorrida no período decorrido da variação de preços do ativo."
   ]
  },
  {
   "cell_type": "code",
   "execution_count": 1,
   "metadata": {},
   "outputs": [],
   "source": [
    "# Bibliotecas\n",
    "import datetime as dt\n",
    "import numpy as np\n",
    "import pandas as pd\n",
    "import matplotlib.pyplot as plt\n",
    "\n",
    "# Função de Captura de Dados\n",
    "def read_fx_input(fx_name, path_in):\n",
    "  df = pd.read_csv(path_in + fx_name + '.csv', decimal=',') # Lê o arquivo CSV\n",
    "  df = df[df.tipoBoletim == 'Fechamento'].reset_index() # Filtra os dados de fechamento\n",
    "  df['date'] = df['dataHoraCotacao'].apply(lambda x: dt.datetime.strptime(x[0:10], '%Y-%m-%d').date()) # Cria a coluna de data\n",
    "  df['price'] = (df.cotacaoCompra + df.cotacaoVenda) / 2 # Calcula o preço médio\n",
    "  return df[['date', 'price']].set_index('date')  # Retorna a série temporal"
   ]
  },
  {
   "cell_type": "code",
   "execution_count": 2,
   "metadata": {},
   "outputs": [
    {
     "data": {
      "text/html": [
       "<div>\n",
       "<style scoped>\n",
       "    .dataframe tbody tr th:only-of-type {\n",
       "        vertical-align: middle;\n",
       "    }\n",
       "\n",
       "    .dataframe tbody tr th {\n",
       "        vertical-align: top;\n",
       "    }\n",
       "\n",
       "    .dataframe thead th {\n",
       "        text-align: right;\n",
       "    }\n",
       "</style>\n",
       "<table border=\"1\" class=\"dataframe\">\n",
       "  <thead>\n",
       "    <tr style=\"text-align: right;\">\n",
       "      <th></th>\n",
       "      <th>price</th>\n",
       "    </tr>\n",
       "    <tr>\n",
       "      <th>date</th>\n",
       "      <th></th>\n",
       "    </tr>\n",
       "  </thead>\n",
       "  <tbody>\n",
       "    <tr>\n",
       "      <th>2010-01-04</th>\n",
       "      <td>1.7236</td>\n",
       "    </tr>\n",
       "    <tr>\n",
       "      <th>2010-01-05</th>\n",
       "      <td>1.7223</td>\n",
       "    </tr>\n",
       "    <tr>\n",
       "      <th>2010-01-06</th>\n",
       "      <td>1.7333</td>\n",
       "    </tr>\n",
       "    <tr>\n",
       "      <th>2010-01-07</th>\n",
       "      <td>1.7409</td>\n",
       "    </tr>\n",
       "    <tr>\n",
       "      <th>2010-01-08</th>\n",
       "      <td>1.7386</td>\n",
       "    </tr>\n",
       "  </tbody>\n",
       "</table>\n",
       "</div>"
      ],
      "text/plain": [
       "             price\n",
       "date              \n",
       "2010-01-04  1.7236\n",
       "2010-01-05  1.7223\n",
       "2010-01-06  1.7333\n",
       "2010-01-07  1.7409\n",
       "2010-01-08  1.7386"
      ]
     },
     "execution_count": 2,
     "metadata": {},
     "output_type": "execute_result"
    }
   ],
   "source": [
    "# bid = oferta de compra\n",
    "# ask = oferta de venda\n",
    "# mid = preço médio\n",
    "\n",
    "df_inputs = read_fx_input('USD', '')\n",
    "df_inputs.head()"
   ]
  },
  {
   "cell_type": "code",
   "execution_count": 3,
   "metadata": {},
   "outputs": [],
   "source": [
    "# Função de Cálculo de Retorno e PnL\n",
    "def calc_ret_pnl(df, hp):\n",
    "  df['return'] = (df['price'] / df['price'].shift(hp) - 1) # Calcula o retorno\n",
    "  df['Pnl'] = df['price'] - df['price'].shift(hp) # Calcula o PnL\n",
    "  return df"
   ]
  },
  {
   "cell_type": "code",
   "execution_count": null,
   "metadata": {},
   "outputs": [
    {
     "data": {
      "text/html": [
       "<div>\n",
       "<style scoped>\n",
       "    .dataframe tbody tr th:only-of-type {\n",
       "        vertical-align: middle;\n",
       "    }\n",
       "\n",
       "    .dataframe tbody tr th {\n",
       "        vertical-align: top;\n",
       "    }\n",
       "\n",
       "    .dataframe thead th {\n",
       "        text-align: right;\n",
       "    }\n",
       "</style>\n",
       "<table border=\"1\" class=\"dataframe\">\n",
       "  <thead>\n",
       "    <tr style=\"text-align: right;\">\n",
       "      <th></th>\n",
       "      <th>price</th>\n",
       "      <th>return</th>\n",
       "      <th>Pnl</th>\n",
       "    </tr>\n",
       "    <tr>\n",
       "      <th>date</th>\n",
       "      <th></th>\n",
       "      <th></th>\n",
       "      <th></th>\n",
       "    </tr>\n",
       "  </thead>\n",
       "  <tbody>\n",
       "    <tr>\n",
       "      <th>2010-01-04</th>\n",
       "      <td>1.7236</td>\n",
       "      <td>NaN</td>\n",
       "      <td>NaN</td>\n",
       "    </tr>\n",
       "    <tr>\n",
       "      <th>2010-01-05</th>\n",
       "      <td>1.7223</td>\n",
       "      <td>-0.000754</td>\n",
       "      <td>-0.0013</td>\n",
       "    </tr>\n",
       "    <tr>\n",
       "      <th>2010-01-06</th>\n",
       "      <td>1.7333</td>\n",
       "      <td>0.006387</td>\n",
       "      <td>0.0110</td>\n",
       "    </tr>\n",
       "    <tr>\n",
       "      <th>2010-01-07</th>\n",
       "      <td>1.7409</td>\n",
       "      <td>0.004385</td>\n",
       "      <td>0.0076</td>\n",
       "    </tr>\n",
       "    <tr>\n",
       "      <th>2010-01-08</th>\n",
       "      <td>1.7386</td>\n",
       "      <td>-0.001321</td>\n",
       "      <td>-0.0023</td>\n",
       "    </tr>\n",
       "  </tbody>\n",
       "</table>\n",
       "</div>"
      ],
      "text/plain": [
       "             price    return     Pnl\n",
       "date                                \n",
       "2010-01-04  1.7236       NaN     NaN\n",
       "2010-01-05  1.7223 -0.000754 -0.0013\n",
       "2010-01-06  1.7333  0.006387  0.0110\n",
       "2010-01-07  1.7409  0.004385  0.0076\n",
       "2010-01-08  1.7386 -0.001321 -0.0023"
      ]
     },
     "execution_count": 4,
     "metadata": {},
     "output_type": "execute_result"
    }
   ],
   "source": [
    "df_metrics = calc_ret_pnl(df_inputs, hp=1) # Calcula o retorno e o PnL\n",
    "df_metrics.head()"
   ]
  },
  {
   "cell_type": "markdown",
   "metadata": {},
   "source": [
    "# Definições <a class=\"anchor\" id=\"3\"></a>\n",
    "1. VaR - Value at Risk\n",
    "2. ES - Expected shortfall\n",
    "3. Parâmetros comuns"
   ]
  },
  {
   "cell_type": "markdown",
   "metadata": {},
   "source": [
    "## <i>VaR</i> (<i>Value at Risk</i>)\n",
    "Conceito:\n",
    "- Pior perda esperada sob condições normais de mercado, ao longo de determinado intervalo de tempo ($HP$) e dentro de determinado nível de confiança ($1−\\alpha$).\n",
    "\n",
    "Definição:   \n",
    "    Seja $x(t)$ a série temporal de resultados (<i>PnL</i>), então:\n",
    "\n",
    "$$ VaR_{1-\\alpha}^{HP}(t) = \\inf \\{y \\in \\mathbb{R}: Pr(x(t)) > y = 1 - \\alpha \\} $$\n",
    "\n",
    "Exemplo:   \n",
    "Se um portfólio possui um VaR para $HP=10$ dias e nível de confiança 95\\% no valor de R\\$ 1 milhão, significa que:\n",
    "- Há uma probabilidade de $\\alpha = 5\\%$ que o portfólio perca mais de R$ 1 milhão num intervalo de 10 dias, caso o portfólio permaneça o mesmo neste período.\n"
   ]
  },
  {
   "cell_type": "markdown",
   "metadata": {},
   "source": [
    "## <i>ES</i> (<i>Expected Shortfall</i>)\n",
    "Conceito:\n",
    "- Valor esperado (média) da perda condicional ao estouro do <i>VaR</i>, ao longo de determinado intervalo de tempo ($𝐻𝑃$) e dentro de determinado nível de confiança ($1−\\alpha$).\n",
    "\n",
    "Definição:\n",
    "$$ ES_{1-\\alpha}^{HP}(t) = \\mathbb{E}[x(t) | x(t) < VaR_{1-\\alpha}^{HP}(t)] $$\n",
    "\n",
    "Exemplo:   \n",
    "Se o <i>ES</i> é de R\\$ 10 milhões, significa que:\n",
    "- Caso ocorra uma perda pior que o <i>VaR</i> (estouro), o valor esperado dessa perda é de R\\$ 10 milhões.\n"
   ]
  },
  {
   "cell_type": "markdown",
   "metadata": {},
   "source": [
    "## Parâmetros comuns\n",
    "A definição dos parâmetros pode vir por exigência regulatória ou por decisão interna da instituição financeira, de acordo com seus apetites de risco ou uso dos modelos. A seguir, temos os valores mais comuns para o <i>holding period</i> e para o nível de confiança.\n",
    "\n",
    "$HP$: \n",
    "- 1 dia (usado em cálculo de limites)\n",
    "- 10 dias (usado para cálculo de capital)\n",
    "- 30 dias (usado em métricas de liquidez)\n",
    "\n",
    "Nível de confiança ($ 1 - \\alpha $):\n",
    "- 99%\n",
    "- 97,5%\n",
    "- 95%\n",
    "\n",
    "O nível de confiança é unilateral, pois sob uma visão de riscos, a preocupação é apenas sobre as perdas."
   ]
  },
  {
   "cell_type": "markdown",
   "metadata": {},
   "source": [
    "# Métodos de cálculo<a class=\"anchor\" id=\"4\"></a>\n",
    "1. **Paramétrico**   \n",
    "Premissa: distribuições teóricas com parâmetros conhecidos   \n",
    "Custo processamento: baixo   \n",
    "Custo base de dados: baixo   \n",
    "Maior fragilidade: depende diretamente da amostra utilizada na calibração dos parâmetros e da adequação das distribuições utilizadas\n",
    "\n",
    "2. **Histórico**   \n",
    "Premissa: informações passadas representam bem a distribuição   \n",
    "Custo processamento: baixo   \n",
    "Custo base de dados: alto   \n",
    "Maior fragilidade: depende diretamente da amostra utilizada\n",
    "\n",
    "3. **Simulação por Monte Carlo**   \n",
    "Premissa: adequação dos modelos de projeção   \n",
    "Custo processamento: alto   \n",
    "Custo base de dados: alto   \n",
    "Maior fragilidade: risco de modelo"
   ]
  },
  {
   "cell_type": "markdown",
   "metadata": {},
   "source": [
    "## Histórico\n",
    "\n",
    "O <i>VaR Histórico</i> é facilmente computado, porém exige uma maior quantidade de dados armazenados. Sua vantagem é que não há assunção de distribuição teórica sobre os retornos, pois os percentis são calculados diretamente a partir da amostra de realizações já ocorridas. Isto acaba sendo também uma desvantagem, pois o modelo é baseado apenas em informações passadas, falhando em predizer possíveis movimentações que não ocorreram no período histórico utilizado na mensuração.   \n",
    "\n",
    "Na simulação histórica, primeiramente define-se a quantidade $n$ de cenários que será utilizada como tamanho da amostra para cálculo dos percentis. Com isto, obtemos uma série com $n$ retornos já realizados. Em geral, utilizam-se os retornos mais recentes e, portanto:\n",
    "\n",
    "$$ sRet_t = \\{retorno(\\tau)\\}_{t-n}^{t} $$\n",
    "\n",
    "Estes retornos são aplicados ao valor financeiro atual para gerar uma série de possíveis cenários de perdas e ganhos (PnLs):\n",
    "\n",
    "$$ sPnL_t = MtM_t \\cdot sRet_t = \\{MtM_t \\cdot retorno(\\tau)\\}_{t-n}^{t} $$\n",
    "\n",
    "𝑃ara obter o VaR, calcula-se o percentil $\\alpha$ desta série:\n",
    "\n",
    "$$ VaR_{1-\\alpha}(t) = Percentil[sPnL_t, \\alpha] $$\n",
    "\n",
    "Na prática, ordenam-se os valores de PnL simulados e busca-se o $\\alpha$-ésimo pior valor da série.   \n",
    "Para obter o ES, é calculada a média de todos os valores da série abaixo do VaR, ou seja, das perdas piores que o valor do VaR:\n",
    "\n",
    "$$ ES_{1 - \\alpha}(t) = Média[x | x < VaR_{1-\\alpha}(t)], x \\in sPnL_t $$\n",
    "\n",
    "É comum utilizar $n = 1000$ dias mais recentes para cálculo histórico, que representam aproximadamente 4 anos de dados diários. "
   ]
  },
  {
   "cell_type": "markdown",
   "metadata": {},
   "source": [
    "<b>Exemplo prático: Método histórico simples com um único fator de risco</b>\n",
    "<br>\n",
    "<i>Calcular o VaR histórico de 1 dia com 99% de confiança para USD Spot</i>"
   ]
  },
  {
   "cell_type": "markdown",
   "metadata": {},
   "source": [
    "<i>Primeiro passo:</i>\n",
    "Cálculo da série de PnLs: $ sPnL_t $   \n",
    "Fazemos o corte do período utilizado como amostra. Em nosso exemplo, usaremos os últimos 1000 PnLs:"
   ]
  },
  {
   "cell_type": "code",
   "execution_count": 10,
   "metadata": {},
   "outputs": [
    {
     "data": {
      "text/plain": [
       "date\n",
       "2017-05-05   -0.0016\n",
       "2017-05-08    0.0174\n",
       "2017-05-09   -0.0081\n",
       "2017-05-10   -0.0251\n",
       "2017-05-11   -0.0047\n",
       "               ...  \n",
       "2021-04-26   -0.0221\n",
       "2021-04-27   -0.0142\n",
       "2021-04-28   -0.0419\n",
       "2021-04-29   -0.0343\n",
       "2021-04-30    0.0374\n",
       "Name: Pnl, Length: 1000, dtype: float64"
      ]
     },
     "execution_count": 10,
     "metadata": {},
     "output_type": "execute_result"
    }
   ],
   "source": [
    "amostra_Pnl = df_metrics.Pnl.iloc[len(df_metrics)-1000:len(df_metrics)] # Seleciona a amostra de PnL\n",
    "amostra_Pnl"
   ]
  },
  {
   "cell_type": "code",
   "execution_count": 12,
   "metadata": {},
   "outputs": [
    {
     "data": {
      "image/png": "[encoded data removed]",
      "text/plain": [
       "<Figure size 1600x800 with 1 Axes>"
      ]
     },
     "metadata": {},
     "output_type": "display_data"
    }
   ],
   "source": [
    "# Histograma da amostra de 1000 dias\n",
    "plt.figure(figsize=(16,8))\n",
    "plt.hist(amostra_Pnl, density=False, bins=50)\n",
    "plt.ylabel('Frequência')\n",
    "plt.xlabel('PnL')\n",
    "plt.title('Histograma do PnL')\n",
    "plt.show()"
   ]
  },
  {
   "cell_type": "code",
   "execution_count": 13,
   "metadata": {},
   "outputs": [],
   "source": [
    "import scipy.stats as st"
   ]
  },
  {
   "cell_type": "code",
   "execution_count": null,
   "metadata": {},
   "outputs": [
    {
     "data": {
      "image/png": "[encoded data removed]",
      "text/plain": [
       "<Figure size 1600x800 with 1 Axes>"
      ]
     },
     "metadata": {},
     "output_type": "display_data"
    }
   ],
   "source": [
    "bins = 50\n",
    "plt.figure(figsize=(16,8))\n",
    "plt.hist(amostra_Pnl, density=True, bins=bins, label='Dados')\n",
    "xmin, xmax = plt.xlim()\n",
    "mu, sigma = st.norm.fit(amostra_Pnl)\n",
    "x = np.linspace(xmin, xmax, 100)\n",
    "curve = st.norm.pdf(x, mu, sigma)\n",
    "plt.plot(x, curve, label='PDF')\n",
    "plt.ylabel('Densidade')\n",
    "plt.xlabel('PnL')\n",
    "plt.title('Histograma e PDF do PnL')\n",
    "plt.legend()\n",
    "plt.show()"
   ]
  },
  {
   "cell_type": "code",
   "execution_count": 16,
   "metadata": {},
   "outputs": [
    {
     "name": "stdout",
     "output_type": "stream",
     "text": [
      "VaR 99% = R$ 0.13\n"
     ]
    }
   ],
   "source": [
    "# Para obter o VaR, basta buscar o percentil desejado\n",
    "alpha = 0.01\n",
    "VaR = amostra_Pnl.quantile(alpha)\n",
    "print(\"VaR 99% = R$ {:.2f}\".format(- VaR))"
   ]
  },
  {
   "cell_type": "code",
   "execution_count": 17,
   "metadata": {},
   "outputs": [
    {
     "data": {
      "text/plain": [
       "date\n",
       "2020-03-13   -0.14705\n",
       "2020-04-09   -0.13440\n",
       "2020-04-29   -0.13920\n",
       "2020-06-03   -0.20850\n",
       "2020-07-21   -0.13520\n",
       "2020-11-05   -0.13080\n",
       "2020-11-09   -0.24920\n",
       "2021-01-13   -0.15670\n",
       "2021-03-04   -0.13340\n",
       "2021-03-11   -0.15590\n",
       "Name: Pnl, dtype: float64"
      ]
     },
     "execution_count": 17,
     "metadata": {},
     "output_type": "execute_result"
    }
   ],
   "source": [
    "amostra_es = amostra_Pnl[amostra_Pnl <= VaR] # Seleciona a amostra de eventos extremos\n",
    "amostra_es"
   ]
  },
  {
   "cell_type": "code",
   "execution_count": 18,
   "metadata": {},
   "outputs": [
    {
     "name": "stdout",
     "output_type": "stream",
     "text": [
      "ES 99% = R$ 0.16\n"
     ]
    }
   ],
   "source": [
    "es = amostra_Pnl[amostra_Pnl <= VaR].mean() # Calcula o ES\n",
    "print(\"ES 99% = R$ {:.2f}\".format(- es))"
   ]
  },
  {
   "cell_type": "markdown",
   "metadata": {},
   "source": [
    "<b>Exemplos:</b>\n",
    "\n",
    "1. É possível o <i>ES</i> apresentar um valor menor (em módulo) que o VaR:\n",
    "\n",
    "    a) sob o mesmo nível de confiança?<br>\n",
    "    <i>Não, o ES será sempre <= que o VaR;</i>\n",
    "\n",
    "    b) sob um nível de confiança maior (ex: ES 95% e VaR 99%)?<br>\n",
    "    <i>Sim, pois o ES estará pegando uma parcela menor da cauda;</i>\n",
    "    \n",
    "    c) sob um nível de confiança menor (ex: ES 99% e VaR 95%)?<br>\n",
    "    <i>Não, pois o ES estará pegando uma parcela maior da cauda.</i>\n",
    "    \n",
    "2. Calcule o <i>VaR Histórico</i> com nível de confiança de 95% e <i>HP</i>=1, para a última data disponível de <i>USD Spot</i> (30/04/2021), utilizando uma amostra de 500 dias.\n",
    "    \n",
    "3. Calcule o <i>ES Histórico</i> com nível de confiança de 97,5% e <i>HP</i>=1, para a última data disponível de <i>USD Spot</i> (30/04/2021), utilizando uma amostra de 1000 dias.\n",
    "    \n",
    "4. Calcule a série temporal de <i>VaR</i> 99% e 97,5%, com <i>HP</i>=1, utilizando uma amostra de 1000 dias para todas as datas possíveis.<br>\n",
    "<i>Dica: Há 2844 dias com preços na base, removendo HP=1 para cálculo do primeiro retorno e 1000 para amostra do 1º VaR, teremos como resultado uma série de VaRs de tamanho 1843.</i>"
   ]
  },
  {
   "cell_type": "code",
   "execution_count": 23,
   "metadata": {},
   "outputs": [
    {
     "name": "stderr",
     "output_type": "stream",
     "text": [
      "[*********************100%***********************]  1 of 1 completed\n"
     ]
    },
    {
     "name": "stdout",
     "output_type": "stream",
     "text": [
      "VaR 95% = R$ 0.53\n"
     ]
    }
   ],
   "source": [
    "import yfinance as yf\n",
    "import pandas as pd\n",
    "\n",
    "def read_fx_input(fx_name='ITUB4.SA'):\n",
    "    df = yf.download(fx_name, start='2010-01-01', end='2025-03-11', interval='1d')\n",
    "    if 'Adj Close' in df.columns:\n",
    "        df = df.loc[:, ['Adj Close']]\n",
    "        df.columns = ['price']\n",
    "    else:\n",
    "        df = df.loc[:, ['Close']]\n",
    "        df.columns = ['price']\n",
    "    return df\n",
    "\n",
    "df_inputs = read_fx_input()\n",
    "\n",
    "def calc_ret_pnl(df, hp): # df = df_usd\n",
    "    df['return'] = (df['price'] / df['price'].shift(hp) - 1) # Retorno\n",
    "    df['PnL'] = df['price'] - df['price'].shift(hp) # Realizado\n",
    "    return df\n",
    "\n",
    "df_metrics = calc_ret_pnl(df_inputs, hp=1)\n",
    "df_metrics.head()\n",
    "\n",
    "amostra_PnL = df_metrics.PnL.iloc[len(df_metrics)-500:len(df_metrics)]\n",
    "amostra_PnL\n",
    "\n",
    "alpha = 0.05\n",
    "var = amostra_PnL.quantile(alpha)\n",
    "print(\"VaR 95% = R$ \" + \"{:.2f}\".format(-var))"
   ]
  },
  {
   "cell_type": "code",
   "execution_count": 25,
   "metadata": {},
   "outputs": [
    {
     "name": "stderr",
     "output_type": "stream",
     "text": [
      "[*********************100%***********************]  1 of 1 completed\n"
     ]
    },
    {
     "name": "stdout",
     "output_type": "stream",
     "text": [
      "VaR 97,5% = US$ 2.13\n",
      "ES 97,5% = R$ 2.85\n"
     ]
    }
   ],
   "source": [
    "import yfinance as yf\n",
    "import pandas as pd\n",
    "\n",
    "# Questão 3\n",
    "def read_fx_input(fx_name='ITUB4.SA'):\n",
    "    df = yf.download(fx_name, start='2010-01-01', end='2025-03-11', interval='1d')\n",
    "    if 'Adj Close' in df.columns:\n",
    "        df = df.loc[:, ['Adj Close']]\n",
    "        df.columns = ['price']\n",
    "    else:\n",
    "        df = df.loc[:, ['Close']]\n",
    "        df.columns = ['price']\n",
    "    return df\n",
    "\n",
    "df_inputs = read_fx_input()\n",
    "\n",
    "def calc_ret_pnl(df, hp): # df = df_usd\n",
    "    df['return'] = (df['price'] / df['price'].shift(hp) - 1) # Retorno\n",
    "    df['PnL'] = df['price'] - df['price'].shift(hp) # Realizado\n",
    "    return df\n",
    "\n",
    "df_metrics = calc_ret_pnl(df_inputs, hp=10)\n",
    "df_metrics.head()\n",
    "\n",
    "amostra_PnL = df_metrics.PnL.iloc[len(df_metrics)-1000:len(df_metrics)]\n",
    "amostra_PnL\n",
    "\n",
    "alpha = 0.025\n",
    "var = amostra_PnL.quantile(alpha)\n",
    "print(\"VaR 97,5% = US$ \" + \"{:.2f}\".format(-var))\n",
    "\n",
    "es = amostra_PnL[amostra_PnL <= var].mean()\n",
    "print(\"ES 97,5% = R$ \" + \"{:.2f}\".format(-es))"
   ]
  },
  {
   "cell_type": "code",
   "execution_count": 27,
   "metadata": {},
   "outputs": [
    {
     "name": "stderr",
     "output_type": "stream",
     "text": [
      "[*********************100%***********************]  1 of 1 completed\n"
     ]
    },
    {
     "data": {
      "text/html": [
       "<div>\n",
       "<style scoped>\n",
       "    .dataframe tbody tr th:only-of-type {\n",
       "        vertical-align: middle;\n",
       "    }\n",
       "\n",
       "    .dataframe tbody tr th {\n",
       "        vertical-align: top;\n",
       "    }\n",
       "\n",
       "    .dataframe thead th {\n",
       "        text-align: right;\n",
       "    }\n",
       "</style>\n",
       "<table border=\"1\" class=\"dataframe\">\n",
       "  <thead>\n",
       "    <tr style=\"text-align: right;\">\n",
       "      <th></th>\n",
       "      <th>VaR1</th>\n",
       "      <th>VaR2</th>\n",
       "    </tr>\n",
       "  </thead>\n",
       "  <tbody>\n",
       "    <tr>\n",
       "      <th>0</th>\n",
       "      <td>-0.900145</td>\n",
       "      <td>-0.715736</td>\n",
       "    </tr>\n",
       "    <tr>\n",
       "      <th>1</th>\n",
       "      <td>-0.900145</td>\n",
       "      <td>-0.715736</td>\n",
       "    </tr>\n",
       "    <tr>\n",
       "      <th>2</th>\n",
       "      <td>-0.900145</td>\n",
       "      <td>-0.715736</td>\n",
       "    </tr>\n",
       "    <tr>\n",
       "      <th>3</th>\n",
       "      <td>-0.900145</td>\n",
       "      <td>-0.715736</td>\n",
       "    </tr>\n",
       "    <tr>\n",
       "      <th>4</th>\n",
       "      <td>-0.900145</td>\n",
       "      <td>-0.715736</td>\n",
       "    </tr>\n",
       "    <tr>\n",
       "      <th>...</th>\n",
       "      <td>...</td>\n",
       "      <td>...</td>\n",
       "    </tr>\n",
       "    <tr>\n",
       "      <th>2765</th>\n",
       "      <td>-0.353227</td>\n",
       "      <td>-0.302015</td>\n",
       "    </tr>\n",
       "    <tr>\n",
       "      <th>2766</th>\n",
       "      <td>-0.353227</td>\n",
       "      <td>-0.302015</td>\n",
       "    </tr>\n",
       "    <tr>\n",
       "      <th>2767</th>\n",
       "      <td>-0.353227</td>\n",
       "      <td>-0.302015</td>\n",
       "    </tr>\n",
       "    <tr>\n",
       "      <th>2768</th>\n",
       "      <td>-0.353227</td>\n",
       "      <td>-0.302015</td>\n",
       "    </tr>\n",
       "    <tr>\n",
       "      <th>2769</th>\n",
       "      <td>-0.353227</td>\n",
       "      <td>-0.302015</td>\n",
       "    </tr>\n",
       "  </tbody>\n",
       "</table>\n",
       "<p>2770 rows × 2 columns</p>\n",
       "</div>"
      ],
      "text/plain": [
       "          VaR1      VaR2\n",
       "0    -0.900145 -0.715736\n",
       "1    -0.900145 -0.715736\n",
       "2    -0.900145 -0.715736\n",
       "3    -0.900145 -0.715736\n",
       "4    -0.900145 -0.715736\n",
       "...        ...       ...\n",
       "2765 -0.353227 -0.302015\n",
       "2766 -0.353227 -0.302015\n",
       "2767 -0.353227 -0.302015\n",
       "2768 -0.353227 -0.302015\n",
       "2769 -0.353227 -0.302015\n",
       "\n",
       "[2770 rows x 2 columns]"
      ]
     },
     "execution_count": 27,
     "metadata": {},
     "output_type": "execute_result"
    }
   ],
   "source": [
    "import yfinance as yf\n",
    "import pandas as pd\n",
    "\n",
    "# Questão 4\n",
    "def read_fx_input(fx_name='ITUB4.SA'):\n",
    "    df = yf.download(fx_name, start='2010-01-01', end='2025-03-11', interval='1d')\n",
    "    if 'Adj Close' in df.columns:\n",
    "        df = df.loc[:, ['Adj Close']]\n",
    "        df.columns = ['price']\n",
    "    else:\n",
    "        df = df.loc[:, ['Close']]\n",
    "        df.columns = ['price']\n",
    "    return df\n",
    "\n",
    "df_inputs = read_fx_input()\n",
    "\n",
    "def calc_ret_pnl(df, hp): # df = df_usd\n",
    "    df['return'] = (df['price'] / df['price'].shift(hp) - 1) # Retorno\n",
    "    df['PnL'] = df['price'] - df['price'].shift(hp) # Realizado\n",
    "    return df\n",
    "\n",
    "df_metrics = calc_ret_pnl(df_inputs, hp=1)\n",
    "df_metrics.head()\n",
    "\n",
    "def calc_hist_var(i, alpha):\n",
    "    amostra_PnL = df_metrics.PnL.iloc[len(df_metrics)-1000-i:len(df_metrics)-i]\n",
    "    var = amostra_PnL.quantile(alpha)\n",
    "    return var\n",
    "\n",
    "VaR1 = []\n",
    "for i in range(len(df_metrics) - 1000):\n",
    "    VaR1.append(calc_hist_var(i, 0.01))\n",
    "\n",
    "VaR2 = []\n",
    "for i in range(len(df_metrics) - 1000):\n",
    "    VaR2.append(calc_hist_var(i, 0.025))\n",
    "\n",
    "VaRs = pd.DataFrame()\n",
    "VaRs['VaR1'] = VaR1\n",
    "VaRs['VaR2'] = VaR2\n",
    "VaRs"
   ]
  }
 ],
 "metadata": {
  "kernelspec": {
   "display_name": "Python 3",
   "language": "python",
   "name": "python3"
  },
  "language_info": {
   "codemirror_mode": {
    "name": "ipython",
    "version": 3
   },
   "file_extension": ".py",
   "mimetype": "text/x-python",
   "name": "python",
   "nbconvert_exporter": "python",
   "pygments_lexer": "ipython3",
   "version": "3.13.2"
  }
 },
 "nbformat": 4,
 "nbformat_minor": 2
}
