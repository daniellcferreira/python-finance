{
 "cells": [
  {
   "cell_type": "markdown",
   "metadata": {},
   "source": [
    "# Introdução\n",
    "\n",
    "## Motivação\n",
    "\n",
    "Utilizando o conhecimento obtido no curso até este ponto, já temos em mãos o ferramental necessário para construir diversas calculadoras e análises dentro do contexto de Renda Fixa do mercado financeiro. A construção de ferramentas mais complexas vai depender do aprofundamento e completo entendimento de conceitos que passamos de forma mais superficial aqui - até pela necessidade de conhecimentos matemáticos mais avançados em alguns casos. Porém, para muitas coisas no Mercado Financeiro, não precisamos levar à mão ferramentas complexas. A exemplo disto, vamos fazer um projeto muito interessante e que resulta em uma calculadora importante. Vamos Precificar uma NTN-F.\n",
    "<br>\n",
    "\n",
    "## O que é uma NTN-F?\n",
    "\n",
    "A Nota do Tesouro Nacional - Série F (sigla NTN-F) é simplesmente o nome antigo do que hoje a plataforma do Tesouro Direto chama de \"Tesouro Prefixado com Juros Semestrais\". A mudança do nome é devido ao fato de a plataforma desejar tornar os investimentos mais acessíveis ao público de varejo do país e, desta forma, deixar o nome mais intuitivo para o investidor inexperiente.\n",
    "<br>\n",
    "Este título tem três características principais:\n",
    "1. É um título prefixado, ou seja, sua taxa é fixada no momento da compra;\n",
    "2. É um título que paga cupons semestrais, ou seja, ele possui uma <b>taxa de cupom</b> e um fluxo de caixa durante sua vida;\n",
    "3. É um título emitido pelo tesouro Nacional, ou seja, não possui embutido em sua taxa nenhum <i>spread</i> de crédito. Em outras palavras, ele não possui nenhuma remuneração adicional pelo risco de calote - o risco deste título é o que chamamo de <b>risco soberano</b> - e usamos estes títulos soberanos para, posteriormente, calcular quanto de <b>prêmio de risco</b> as emissões corporativas estão pagando."
   ]
  },
  {
   "cell_type": "markdown",
   "metadata": {},
   "source": [
    "# Precificando o Título\n",
    "\n",
    "Vamos fazer a precificação do título em passo-a-passo.\n",
    "<br>\n",
    "A primeira coisa que precisamos obter são as características do título. Para isto, podemos cotar a taxa em uma instituição, ou, a título de didática, podemos olhar na própria plataforma do tesouro Direto. Lá veremos a seguinte taxa para a data de consulta:\n",
    "<br>\n",
    "![Tela do tesouro Direto](tela-tesouro-direto.png)\n",
    "\n",
    "Aqui podemos identificar as seguintes informações-chave:\n",
    "1. A taxa ofertada é de 11,37%;\n",
    "2. O título vence em 01/01/2033;\n",
    "<br>\n",
    "\n",
    "Além disso, sabemos que este produto (basta ler no descritivo do produto no próprio site do Tesouro Direto) que:\n",
    "1. Ele paga cupons semestrais com uma taxa de cupom de 10% a.a.;\n",
    "2. Este título vale, no vencimento R$ 1.000,00.\n",
    "<br>\n",
    "\n",
    "Com estas informações em mãos, podemos começar a implementar nossa precificação."
   ]
  },
  {
   "cell_type": "markdown",
   "metadata": {},
   "source": [
    "## Passo 1\n",
    "\n",
    "O primeiro passo é importarmos as bibliotecas que vamos usar neste projeto, e inicializar as variáveis características do títulos que vamos precificar."
   ]
  },
  {
   "cell_type": "code",
   "execution_count": 2,
   "metadata": {},
   "outputs": [],
   "source": [
    "import numpy as np\n",
    "import pandas as pd\n",
    "\n",
    "from datetime import datetime, date\n",
    "from dateutil.relativedelta import relativedelta"
   ]
  },
  {
   "cell_type": "code",
   "execution_count": 3,
   "metadata": {},
   "outputs": [],
   "source": [
    "VF = 1000 \n",
    "taxaTitulo = 0.1137       # 11,37% a.a\n",
    "taxaCupom = 0.1000        # 10% a.a\n",
    "periodicidadeCumpom = 2   # 2 vezes ao ano\n",
    "vencimento = date(2033, 1, 1)"
   ]
  },
  {
   "cell_type": "markdown",
   "metadata": {},
   "source": [
    "## Passo 2\n",
    "\n",
    "O segundo passo é buscarmos, no site da ANBIMA, o calendário de feriados bancários, pois sabemos que a NTN-F remunera o investidor em <b>dias úteis</b>.\n",
    "\n",
    "P.S.: Site da ANBIMA: https://www.anbima.com.br/feriados/"
   ]
  },
  {
   "cell_type": "code",
   "execution_count": null,
   "metadata": {},
   "outputs": [],
   "source": [
    "def buscarCalendarioANBIMA() -> pd.DataFrame: \n",
    "  calendario = pd.read_excel('https://www.anbima.com.br/feriados/arqs/feriados_nacionais.xls')\n",
    "  calendario.dropna(subset=['Dia da Semana', 'Feriado'], how='any', inplace=True)  \n",
    "  calendario = calendario[['Data']] \n",
    "  calendario['Data'] = [x.date() for x in calendario['Data']]\n",
    "\n",
    "  return calendario"
   ]
  },
  {
   "cell_type": "code",
   "execution_count": 5,
   "metadata": {},
   "outputs": [
    {
     "data": {
      "text/html": [
       "<div>\n",
       "<style scoped>\n",
       "    .dataframe tbody tr th:only-of-type {\n",
       "        vertical-align: middle;\n",
       "    }\n",
       "\n",
       "    .dataframe tbody tr th {\n",
       "        vertical-align: top;\n",
       "    }\n",
       "\n",
       "    .dataframe thead th {\n",
       "        text-align: right;\n",
       "    }\n",
       "</style>\n",
       "<table border=\"1\" class=\"dataframe\">\n",
       "  <thead>\n",
       "    <tr style=\"text-align: right;\">\n",
       "      <th></th>\n",
       "      <th>Data</th>\n",
       "    </tr>\n",
       "  </thead>\n",
       "  <tbody>\n",
       "    <tr>\n",
       "      <th>0</th>\n",
       "      <td>2001-01-01</td>\n",
       "    </tr>\n",
       "    <tr>\n",
       "      <th>1</th>\n",
       "      <td>2001-02-26</td>\n",
       "    </tr>\n",
       "    <tr>\n",
       "      <th>2</th>\n",
       "      <td>2001-02-27</td>\n",
       "    </tr>\n",
       "    <tr>\n",
       "      <th>3</th>\n",
       "      <td>2001-04-13</td>\n",
       "    </tr>\n",
       "    <tr>\n",
       "      <th>4</th>\n",
       "      <td>2001-04-21</td>\n",
       "    </tr>\n",
       "    <tr>\n",
       "      <th>5</th>\n",
       "      <td>2001-05-01</td>\n",
       "    </tr>\n",
       "    <tr>\n",
       "      <th>6</th>\n",
       "      <td>2001-06-14</td>\n",
       "    </tr>\n",
       "    <tr>\n",
       "      <th>7</th>\n",
       "      <td>2001-09-07</td>\n",
       "    </tr>\n",
       "    <tr>\n",
       "      <th>8</th>\n",
       "      <td>2001-10-12</td>\n",
       "    </tr>\n",
       "    <tr>\n",
       "      <th>9</th>\n",
       "      <td>2001-11-02</td>\n",
       "    </tr>\n",
       "  </tbody>\n",
       "</table>\n",
       "</div>"
      ],
      "text/plain": [
       "         Data\n",
       "0  2001-01-01\n",
       "1  2001-02-26\n",
       "2  2001-02-27\n",
       "3  2001-04-13\n",
       "4  2001-04-21\n",
       "5  2001-05-01\n",
       "6  2001-06-14\n",
       "7  2001-09-07\n",
       "8  2001-10-12\n",
       "9  2001-11-02"
      ]
     },
     "execution_count": 5,
     "metadata": {},
     "output_type": "execute_result"
    }
   ],
   "source": [
    "calendarioFeriados = buscarCalendarioANBIMA()\n",
    "calendarioFeriados.head(10)"
   ]
  },
  {
   "cell_type": "markdown",
   "metadata": {},
   "source": [
    "## Passo 3\n",
    "\n",
    "O terceiro passo é montarmos o calendário de datas relevantes para o título, ou seja, precisamos obter a data de cada evento na vida deste título - fazendo correções em caso de datas que caiam nos finais de semana ou feriados!"
   ]
  },
  {
   "cell_type": "code",
   "execution_count": null,
   "metadata": {},
   "outputs": [],
   "source": [
    "def montandoDatasFluxo(vcto: date, calendario: pd.DataFrame) -> list:\n",
    "  hoje = date.today()\n",
    "  while hoje.weekday() == 5 or hoje.weekday() == 6 or hoje in calendario['Data'].values.tolist():\n",
    "    hoje = hoje - relativedelta(days=1)\n",
    "\n",
    "  datasRelevantes = []\n",
    "  dataRelevante = vcto\n",
    "  while dataRelevante >= hoje:\n",
    "    dataAuxiliar = dataRelevante\n",
    "\n",
    "    while dataAuxiliar.weekday() == 5 or dataAuxiliar.weekday() == 6 or dataAuxiliar in calendario['Data'].values.tolist():\n",
    "      dataAuxiliar = dataAuxiliar + relativedelta(days=1)\n",
    "\n",
    "    datasRelevantes.append(dataAuxiliar)\n",
    "\n",
    "    dataRelevante = dataRelevante - relativedelta(months=6)\n",
    "  \n",
    "  return datasRelevantes"
   ]
  },
  {
   "cell_type": "code",
   "execution_count": 7,
   "metadata": {},
   "outputs": [
    {
     "data": {
      "text/plain": [
       "[datetime.date(2033, 1, 3),\n",
       " datetime.date(2032, 7, 1),\n",
       " datetime.date(2032, 1, 2)]"
      ]
     },
     "execution_count": 7,
     "metadata": {},
     "output_type": "execute_result"
    }
   ],
   "source": [
    "datasFluxos = montandoDatasFluxo(vcto=vencimento, calendario=calendarioFeriados)\n",
    "datasFluxos[:3]"
   ]
  },
  {
   "cell_type": "markdown",
   "metadata": {},
   "source": [
    "## Passo 4\n",
    "\n",
    "O quarto passo é determinarmos qual o <b>Valor Futuro</b> que vai acontecer nestas datas de interesse que obtivemos."
   ]
  },
  {
   "cell_type": "code",
   "execution_count": 8,
   "metadata": {},
   "outputs": [],
   "source": [
    "def montandoValoresFuturos(valorFace: float, taxaCupom: float, datasInteresse: list, perCpm: int) -> list:\n",
    "  valorCupom = round(valorFace * round((1+taxaCupom)**((12/perCpm)/12)-1, 8), 6)\n",
    "  cupons = []\n",
    "  for idx, i in enumerate(datasInteresse):\n",
    "    if idx == 0:\n",
    "      cupons.append(valorFace+valorCupom)\n",
    "    else:\n",
    "      cupons.append(valorCupom)\n",
    "  \n",
    "  return cupons"
   ]
  },
  {
   "cell_type": "code",
   "execution_count": 9,
   "metadata": {},
   "outputs": [
    {
     "data": {
      "text/plain": [
       "[1048.80885, 48.80885, 48.80885]"
      ]
     },
     "execution_count": 9,
     "metadata": {},
     "output_type": "execute_result"
    }
   ],
   "source": [
    "fluxoValoresFuturos = montandoValoresFuturos(valorFace=VF, taxaCupom=taxaCupom, datasInteresse=datasFluxos, perCpm=periodicidadeCumpom)\n",
    "fluxoValoresFuturos[:3]"
   ]
  },
  {
   "cell_type": "markdown",
   "metadata": {},
   "source": [
    "## Passo 5\n",
    "\n",
    "O quinto passo é obtermos o <b>Valor Presente</b> dos fluxos de caixa que vão ocorrer. Como já temos as datas destes fluxos e o valor destes fluxos, precisamos criar a inteligência para trazer cada um a valor presente, dada a sua distância temporal da data de precificação (hoje).\n",
    "\n",
    "Aproveitando que, neste ponto do projeto, já teremos todas as variáveis calculadas, podemos mandar a função já retornar o <i>dataframe</i> final pronto para visualizarmos!"
   ]
  },
  {
   "cell_type": "code",
   "execution_count": null,
   "metadata": {},
   "outputs": [],
   "source": [
    "def montandoValoresPresentes(taxa: float, datas: list, valoresFuturos: list, calFeriados: list) -> pd.DataFrame:\n",
    "  hoje = date.today()\n",
    "  while hoje.weekday() == 5 or hoje.weekday() == 6 or hoje in calFeriados['Data'].values.tolist():\n",
    "    hoje = hoje - relativedelta(days=1)\n",
    "\n",
    "  numeroDUs = []\n",
    "  valorCupom = []\n",
    "  fatores = []\n",
    "  for idx, i in enumerate(datas):\n",
    "    dus = np.busday_count(hoje, i, holidays=[x.strftime('%Y-%m-%d') for x in calFeriados['Data'].values.tolist()])-1\n",
    "    fator = round(1/ (1+taxa)**(dus/252), 9)\n",
    "    valPres = round(valoresFuturos[idx] * fator, 9)\n",
    "\n",
    "    numeroDUs.append(dus)\n",
    "    fatores.append(fator)\n",
    "    valorCupom.append(valPres)\n",
    "\n",
    "  dfFluxos = pd.DataFrame()\n",
    "  dfFluxos['Data'] = datas  \n",
    "  dfFluxos['Dias Úteis'] = numeroDUs\n",
    "  dfFluxos['Valor Futuro'] = valoresFuturos\n",
    "  dfFluxos['Valor Presente'] = valorCupom\n",
    "  dfFluxos['Fator'] = fatores\n",
    "  dfFluxos.sort_values(by=['Data'], inplace=True, ignore_index=True)\n",
    "\n",
    "  return dfFluxos"
   ]
  },
  {
   "cell_type": "code",
   "execution_count": 20,
   "metadata": {},
   "outputs": [
    {
     "data": {
      "text/html": [
       "<div>\n",
       "<style scoped>\n",
       "    .dataframe tbody tr th:only-of-type {\n",
       "        vertical-align: middle;\n",
       "    }\n",
       "\n",
       "    .dataframe tbody tr th {\n",
       "        vertical-align: top;\n",
       "    }\n",
       "\n",
       "    .dataframe thead th {\n",
       "        text-align: right;\n",
       "    }\n",
       "</style>\n",
       "<table border=\"1\" class=\"dataframe\">\n",
       "  <thead>\n",
       "    <tr style=\"text-align: right;\">\n",
       "      <th></th>\n",
       "      <th>Data</th>\n",
       "      <th>Dias Úteis</th>\n",
       "      <th>Valor Futuro</th>\n",
       "      <th>Valor Presente</th>\n",
       "      <th>Fator</th>\n",
       "    </tr>\n",
       "  </thead>\n",
       "  <tbody>\n",
       "    <tr>\n",
       "      <th>0</th>\n",
       "      <td>2025-07-01</td>\n",
       "      <td>73</td>\n",
       "      <td>48.80885</td>\n",
       "      <td>47.309748</td>\n",
       "      <td>0.969286</td>\n",
       "    </tr>\n",
       "    <tr>\n",
       "      <th>1</th>\n",
       "      <td>2026-01-02</td>\n",
       "      <td>203</td>\n",
       "      <td>48.80885</td>\n",
       "      <td>44.753208</td>\n",
       "      <td>0.916908</td>\n",
       "    </tr>\n",
       "    <tr>\n",
       "      <th>2</th>\n",
       "      <td>2026-07-01</td>\n",
       "      <td>325</td>\n",
       "      <td>48.80885</td>\n",
       "      <td>42.479796</td>\n",
       "      <td>0.870330</td>\n",
       "    </tr>\n",
       "    <tr>\n",
       "      <th>3</th>\n",
       "      <td>2027-01-04</td>\n",
       "      <td>452</td>\n",
       "      <td>48.80885</td>\n",
       "      <td>40.235807</td>\n",
       "      <td>0.824355</td>\n",
       "    </tr>\n",
       "    <tr>\n",
       "      <th>4</th>\n",
       "      <td>2027-07-01</td>\n",
       "      <td>575</td>\n",
       "      <td>48.80885</td>\n",
       "      <td>38.175556</td>\n",
       "      <td>0.782144</td>\n",
       "    </tr>\n",
       "    <tr>\n",
       "      <th>5</th>\n",
       "      <td>2028-01-03</td>\n",
       "      <td>703</td>\n",
       "      <td>48.80885</td>\n",
       "      <td>36.143490</td>\n",
       "      <td>0.740511</td>\n",
       "    </tr>\n",
       "    <tr>\n",
       "      <th>6</th>\n",
       "      <td>2028-07-03</td>\n",
       "      <td>827</td>\n",
       "      <td>48.80885</td>\n",
       "      <td>34.278133</td>\n",
       "      <td>0.702293</td>\n",
       "    </tr>\n",
       "    <tr>\n",
       "      <th>7</th>\n",
       "      <td>2029-01-02</td>\n",
       "      <td>951</td>\n",
       "      <td>48.80885</td>\n",
       "      <td>32.509046</td>\n",
       "      <td>0.666048</td>\n",
       "    </tr>\n",
       "    <tr>\n",
       "      <th>8</th>\n",
       "      <td>2029-07-02</td>\n",
       "      <td>1075</td>\n",
       "      <td>48.80885</td>\n",
       "      <td>30.831261</td>\n",
       "      <td>0.631674</td>\n",
       "    </tr>\n",
       "    <tr>\n",
       "      <th>9</th>\n",
       "      <td>2030-01-02</td>\n",
       "      <td>1200</td>\n",
       "      <td>48.80885</td>\n",
       "      <td>29.227574</td>\n",
       "      <td>0.598817</td>\n",
       "    </tr>\n",
       "    <tr>\n",
       "      <th>10</th>\n",
       "      <td>2030-07-01</td>\n",
       "      <td>1323</td>\n",
       "      <td>48.80885</td>\n",
       "      <td>27.730993</td>\n",
       "      <td>0.568155</td>\n",
       "    </tr>\n",
       "    <tr>\n",
       "      <th>11</th>\n",
       "      <td>2031-01-02</td>\n",
       "      <td>1452</td>\n",
       "      <td>48.80885</td>\n",
       "      <td>26.243669</td>\n",
       "      <td>0.537683</td>\n",
       "    </tr>\n",
       "    <tr>\n",
       "      <th>12</th>\n",
       "      <td>2031-07-01</td>\n",
       "      <td>1574</td>\n",
       "      <td>48.80885</td>\n",
       "      <td>24.910520</td>\n",
       "      <td>0.510369</td>\n",
       "    </tr>\n",
       "    <tr>\n",
       "      <th>13</th>\n",
       "      <td>2032-01-02</td>\n",
       "      <td>1704</td>\n",
       "      <td>48.80885</td>\n",
       "      <td>23.564397</td>\n",
       "      <td>0.482789</td>\n",
       "    </tr>\n",
       "    <tr>\n",
       "      <th>14</th>\n",
       "      <td>2032-07-01</td>\n",
       "      <td>1828</td>\n",
       "      <td>48.80885</td>\n",
       "      <td>22.348243</td>\n",
       "      <td>0.457873</td>\n",
       "    </tr>\n",
       "    <tr>\n",
       "      <th>15</th>\n",
       "      <td>2033-01-03</td>\n",
       "      <td>1956</td>\n",
       "      <td>1048.80885</td>\n",
       "      <td>454.659089</td>\n",
       "      <td>0.433500</td>\n",
       "    </tr>\n",
       "  </tbody>\n",
       "</table>\n",
       "</div>"
      ],
      "text/plain": [
       "          Data  Dias Úteis  Valor Futuro  Valor Presente     Fator\n",
       "0   2025-07-01          73      48.80885       47.309748  0.969286\n",
       "1   2026-01-02         203      48.80885       44.753208  0.916908\n",
       "2   2026-07-01         325      48.80885       42.479796  0.870330\n",
       "3   2027-01-04         452      48.80885       40.235807  0.824355\n",
       "4   2027-07-01         575      48.80885       38.175556  0.782144\n",
       "5   2028-01-03         703      48.80885       36.143490  0.740511\n",
       "6   2028-07-03         827      48.80885       34.278133  0.702293\n",
       "7   2029-01-02         951      48.80885       32.509046  0.666048\n",
       "8   2029-07-02        1075      48.80885       30.831261  0.631674\n",
       "9   2030-01-02        1200      48.80885       29.227574  0.598817\n",
       "10  2030-07-01        1323      48.80885       27.730993  0.568155\n",
       "11  2031-01-02        1452      48.80885       26.243669  0.537683\n",
       "12  2031-07-01        1574      48.80885       24.910520  0.510369\n",
       "13  2032-01-02        1704      48.80885       23.564397  0.482789\n",
       "14  2032-07-01        1828      48.80885       22.348243  0.457873\n",
       "15  2033-01-03        1956    1048.80885      454.659089  0.433500"
      ]
     },
     "execution_count": 20,
     "metadata": {},
     "output_type": "execute_result"
    }
   ],
   "source": [
    "df = montandoValoresPresentes(taxa=taxaTitulo, datas=datasFluxos, valoresFuturos=fluxoValoresFuturos, calFeriados=calendarioFeriados)\n",
    "df"
   ]
  },
  {
   "cell_type": "markdown",
   "metadata": {},
   "source": [
    "## Passo 6\n",
    "\n",
    "O sexto passo é obtermos o Preço Unitário (na sigla PU) do título que estamos precificando. O preço de um título de Renda Fixa soberano não é nada mais e nada menos do que a soma de todos os fluxos de caixa que esperamos receber por ele. Faz sentido?\n",
    "<br>\n",
    "Você concorda que ninguém estaria disposto a pagar mais do que $X$ reais para receber $X$ reais em valor futuro. E se esse título valesse menos, todos os participantes informados de mercado iriam aplicar nele até que seu preço fosse corrigido (pela lei da oferta - maior a demanda pelos títulos e com oferta limitada, aumenta seu valor novamente). Desta forma, podemos dizer que o preço do título vai ser exatamente o somatório da coluna \"Valor Presente\"."
   ]
  },
  {
   "cell_type": "code",
   "execution_count": 21,
   "metadata": {},
   "outputs": [
    {
     "name": "stdout",
     "output_type": "stream",
     "text": [
      "O preço do titulo deve ser: R$955.4\n"
     ]
    }
   ],
   "source": [
    "PU = round(sum(df['Valor Presente']), 6)\n",
    "print(f'O preço do titulo deve ser: R${round(PU, 2)}')"
   ]
  },
  {
   "cell_type": "markdown",
   "metadata": {},
   "source": [
    "# Obtendo algumas métricas de sensibilidade\n",
    "\n",
    "Agora que somos capazes de precificar uma NTN-F, podemos também calcular sua <i>duration</i> e sua convexidade para termos uma noção de <b>sensibilidade</b> do preço deste título - essa sensibilidade serve tanto para gestão de risco quanto para gestão do portfolio em si."
   ]
  },
  {
   "cell_type": "markdown",
   "metadata": {},
   "source": [
    "## <i>Duration</i>"
   ]
  },
  {
   "cell_type": "code",
   "execution_count": 22,
   "metadata": {},
   "outputs": [
    {
     "name": "stdout",
     "output_type": "stream",
     "text": [
      "1364.55\n"
     ]
    }
   ],
   "source": [
    "duration = 0\n",
    "for idx, i in enumerate(df['Valor Presente']):\n",
    "  duration += i * df['Dias Úteis'].iloc[idx]\n",
    "\n",
    "duration = duration / sum(df['Valor Presente'])\n",
    "print(round(duration, 2))"
   ]
  },
  {
   "cell_type": "markdown",
   "metadata": {},
   "source": [
    "Lembrando a equação que define a <i>duration</i>, temos:\n",
    "$$\\Delta P = -D \\cdot P \\cdot \\Delta y$$\n",
    "\n",
    "Então podemos verificar, através da <i>duration</i>, <b>quanto irá variar o PU de um título dada uma variação em sua taxa</b>."
   ]
  },
  {
   "cell_type": "code",
   "execution_count": 23,
   "metadata": {},
   "outputs": [
    {
     "name": "stdout",
     "output_type": "stream",
     "text": [
      "A sensibilidade do titulo a uma variação de 0,01% na taxa é de: R$-0.52\n"
     ]
    }
   ],
   "source": [
    "variacaoPU = -duration/252*PU*0.0001\n",
    "print(f'A sensibilidade do titulo a uma variação de 0,01% na taxa é de: R${round(variacaoPU, 2)}')"
   ]
  },
  {
   "cell_type": "markdown",
   "metadata": {},
   "source": [
    "## Convexidade"
   ]
  },
  {
   "cell_type": "code",
   "execution_count": 25,
   "metadata": {},
   "outputs": [
    {
     "name": "stdout",
     "output_type": "stream",
     "text": [
      "36.66\n"
     ]
    }
   ],
   "source": [
    "convexidade = 0\n",
    "for idx, i in enumerate(df['Valor Presente']):\n",
    "  convexidade += i * (df['Dias Úteis'].iloc[idx]/252)**2\n",
    "\n",
    "convexidade = convexidade / sum(df['Valor Presente'])\n",
    "print(round(convexidade, 2))"
   ]
  },
  {
   "cell_type": "markdown",
   "metadata": {},
   "source": [
    "Lembrando que podemos expandir agora a equação do preço do título com uma segunda derivada da expansão de <i>Taylor</i>, ficando com:\n",
    "$$\\Delta P = -DP \\Delta y + \\frac{1}{2} C P (\\Delta y)^2$$\n",
    "<br>\n",
    "Podemos, então, agregar mais este termo na equação de sensibilidade do título!"
   ]
  },
  {
   "cell_type": "code",
   "execution_count": 26,
   "metadata": {},
   "outputs": [
    {
     "name": "stdout",
     "output_type": "stream",
     "text": [
      "A sensibilidade do título a uma variação de 0,01% na taxa é de: R$-0.52\n"
     ]
    }
   ],
   "source": [
    "variacaoPU2 = -duration/252*PU*0.0001 + 0.5*convexidade*PU*(0.0001)**2\n",
    "print(f'A sensibilidade do título a uma variação de 0,01% na taxa é de: R${round(variacaoPU2, 2)}')"
   ]
  },
  {
   "cell_type": "code",
   "execution_count": 28,
   "metadata": {},
   "outputs": [
    {
     "name": "stdout",
     "output_type": "stream",
     "text": [
      "0.00017510945972809555\n"
     ]
    }
   ],
   "source": [
    "print(abs(variacaoPU - variacaoPU2))"
   ]
  }
 ],
 "metadata": {
  "kernelspec": {
   "display_name": "Python 3",
   "language": "python",
   "name": "python3"
  },
  "language_info": {
   "codemirror_mode": {
    "name": "ipython",
    "version": 3
   },
   "file_extension": ".py",
   "mimetype": "text/x-python",
   "name": "python",
   "nbconvert_exporter": "python",
   "pygments_lexer": "ipython3",
   "version": "3.13.1"
  }
 },
 "nbformat": 4,
 "nbformat_minor": 2
}
